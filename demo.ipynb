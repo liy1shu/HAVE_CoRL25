{
 "cells": [
  {
   "cell_type": "markdown",
   "id": "0a704eb8",
   "metadata": {},
   "source": [
    "# TODO: An example of using the pre-trained model to evaluate - refer to real world codes"
   ]
  }
 ],
 "metadata": {
  "language_info": {
   "name": "python"
  }
 },
 "nbformat": 4,
 "nbformat_minor": 5
}
